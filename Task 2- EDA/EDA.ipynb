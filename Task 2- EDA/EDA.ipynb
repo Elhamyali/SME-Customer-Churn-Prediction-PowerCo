{
  "cells": [
    {
      "cell_type": "raw",
      "metadata": {},
      "source": [
        "---\n",
        "title: PowerCo SME Customer Churn Prediction\n",
        "author: Elham Ali\n",
        "format:\n",
        "  html:\n",
        "    code-fold: true\n",
        "editor: visual\n",
        "---"
      ],
      "id": "47290849"
    },
    {
      "cell_type": "markdown",
      "metadata": {},
      "source": [
        "## Quarto\n",
        "\n",
        "Quarto enables you to weave together content and executable code into a finished presentation. To learn more about Quarto presentations see <https://quarto.org/docs/presentations/>.\n",
        "\n",
        "## \n",
        "\n",
        "\\-\\--\n",
        "title: \"matplotlib demo\"\n",
        "format:\n",
        "html:\n",
        "code-fold: true\n",
        "jupyter: python3\n",
        "\\-\\--\n",
        "\n",
        "For a demonstration of a line plot on a polar axis, see \\@fig-polar.\n",
        "\n",
        "\\`\\`\\`{python}\n",
        "#\\| label: fig-polar\n",
        "#\\| fig-cap: \"A line plot on a polar axis\"\n",
        "\n",
        "import numpy as np\n",
        "import matplotlib.pyplot as plt\n",
        "\n",
        "r = np.arange(0, 2, 0.01)\n",
        "theta = 2 \\* np.pi \\* r\n",
        "fig, ax = plt.subplots(\n",
        "subplot_kw = {'projection': 'polar'}\n",
        ")\n",
        "ax.plot(theta, r)\n",
        "ax.set_rticks(\\[0.5, 1, 1.5, 2\\])\n",
        "ax.grid(True)\n",
        "plt.show()\n",
        "\\`\\`\\`"
      ],
      "id": "da92207e"
    }
  ],
  "metadata": {
    "kernelspec": {
      "name": "python3",
      "language": "python",
      "display_name": "Python 3 (ipykernel)"
    }
  },
  "nbformat": 4,
  "nbformat_minor": 5
}